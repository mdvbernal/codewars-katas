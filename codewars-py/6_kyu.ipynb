{
 "cells": [
  {
   "cell_type": "markdown",
   "metadata": {},
   "source": [
    "### Sum two arrays\n",
    "\n",
    "Your task is to create a function called sum_arrays(), which takes two arrays consisting of integers, and returns the sum of those two arrays.\n",
    "\n",
    "The twist is that (for example) [3,2,9] does not equal 3 + 2 + 9, it would equal '3' + '2' + '9' converted to an integer for this kata, meaning it would equal 329. The output should be an array of the the sum in a similar fashion to the input (for example, if the sum is 341, you would return [3,4,1]). Examples are given below of what two arrays should return.\n",
    "```python\n",
    "[3,2,9],[1,2] --> [3,4,1]\n",
    "[4,7,3],[1,2,3] --> [5,9,6]\n",
    "[1],[5,7,6] --> [5,7,7]\n",
    "```\n",
    "If both arrays are empty, return an empty array.\n",
    "\n",
    "In some cases, there will be an array containing a negative number as the first index in the array. In this case treat the whole number as a negative number. See below:\n",
    "```python\n",
    "[3,2,6,6],[-7,2,2,8] --> [-3,9,6,2] # 3266 + (-7228) = -3962\n",
    "```"
   ]
  },
  {
   "cell_type": "code",
   "execution_count": 93,
   "metadata": {},
   "outputs": [],
   "source": [
    "def sum_arrays(array1,array2):\n",
    "    if (len(array1)==0 and len(array2)==0):\n",
    "        new = []\n",
    "    else:\n",
    "        array1 = int(''.join([str(i) for i in array1])) if len(array1)>0 else 0\n",
    "        array2 = int(''.join([str(i) for i in array2])) if len(array2)>0 else 0\n",
    "        new = array1+array2\n",
    "        if new<0:\n",
    "            new = [int(str(new)[:2])]+[int(i) for i in list(str(new)[2:])]\n",
    "        else:\n",
    "            new = [int(i) for i in list(str(new))]\n",
    "    return new"
   ]
  },
  {
   "cell_type": "code",
   "execution_count": 94,
   "metadata": {},
   "outputs": [
    {
     "name": "stdout",
     "output_type": "stream",
     "text": [
      "[3, 4, 1]\n",
      "[5, 9, 6]\n",
      "[5, 7, 7]\n",
      "[2]\n",
      "[]\n",
      "[0]\n",
      "[1, 2]\n",
      "[-5, 6]\n"
     ]
    }
   ],
   "source": [
    "print(sum_arrays([3,2,9],[1,2]))#,[3,4,1])\n",
    "print(sum_arrays([4,7,3],[1,2,3]))#,[5,9,6])\n",
    "print(sum_arrays([1],[5,7,6]))#,[5,7,7])\n",
    "print(sum_arrays([-3,4,2],[3,4,4]))#,[2])\n",
    "print(sum_arrays([],[]))#,[])\n",
    "print(sum_arrays([0],[]))#,[0])\n",
    "print(sum_arrays([],[1,2]))#,[1,2])\n",
    "print(sum_arrays([-5,6],[]))#,[-5,6])"
   ]
  },
  {
   "cell_type": "code",
   "execution_count": 95,
   "metadata": {},
   "outputs": [
    {
     "data": {
      "text/plain": [
       "-56"
      ]
     },
     "execution_count": 95,
     "metadata": {},
     "output_type": "execute_result"
    }
   ],
   "source": [
    "a=int(''.join([str(i) for i in [-5,6]]))\n",
    "a"
   ]
  },
  {
   "cell_type": "code",
   "execution_count": 91,
   "metadata": {},
   "outputs": [
    {
     "data": {
      "text/plain": [
       "'ne'"
      ]
     },
     "execution_count": 91,
     "metadata": {},
     "output_type": "execute_result"
    }
   ],
   "source": [
    "'new-ljhç'[:2]"
   ]
  },
  {
   "cell_type": "code",
   "execution_count": 92,
   "metadata": {},
   "outputs": [
    {
     "data": {
      "text/plain": [
       "['a', 'b', 'c']"
      ]
     },
     "execution_count": 92,
     "metadata": {},
     "output_type": "execute_result"
    }
   ],
   "source": [
    "['a','b']+['c']"
   ]
  },
  {
   "cell_type": "code",
   "execution_count": 107,
   "metadata": {},
   "outputs": [
    {
     "name": "stdout",
     "output_type": "stream",
     "text": [
      "not\n"
     ]
    }
   ],
   "source": [
    "a=2\n",
    "if a: \n",
    "    print('not')\n",
    "else:\n",
    "    print('yes')"
   ]
  },
  {
   "cell_type": "code",
   "execution_count": null,
   "metadata": {},
   "outputs": [],
   "source": []
  }
 ],
 "metadata": {
  "kernelspec": {
   "display_name": "Python 3",
   "language": "python",
   "name": "python3"
  },
  "language_info": {
   "codemirror_mode": {
    "name": "ipython",
    "version": 3
   },
   "file_extension": ".py",
   "mimetype": "text/x-python",
   "name": "python",
   "nbconvert_exporter": "python",
   "pygments_lexer": "ipython3",
   "version": "3.7.3"
  }
 },
 "nbformat": 4,
 "nbformat_minor": 2
}
